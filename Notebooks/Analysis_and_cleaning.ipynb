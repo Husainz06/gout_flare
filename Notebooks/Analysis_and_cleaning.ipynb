{
 "cells": [
  {
   "cell_type": "markdown",
   "id": "68f1bb89-fb8a-4dd1-97b9-fd00e25a7e4b",
   "metadata": {},
   "source": [
    "<h3>Reading Data</h3>\n",
    "<p>The following code reads the data and displays a sample</p>"
   ]
  },
  {
   "cell_type": "code",
   "execution_count": null,
   "id": "59f53a94-10cb-43e4-8113-4c94239e9c96",
   "metadata": {},
   "outputs": [],
   "source": [
    "import pandas as pd\n",
    "''' I commented this part as the data file was used to generate other files that \n",
    "are now available under \"Data\" folder.'''\n",
    "# GeneName has more than one data type\n",
    "#data = pd.read_csv(\"Normalized_RNAseq_Data/normalized_counts_idmatched.csv\", dtype={'GeneName': str})\n",
    "#data_T = data.T\n",
    "#print(\"Unique gene names count: \",data_T.iloc[1].unique())\n",
    "\n"
   ]
  },
  {
   "cell_type": "markdown",
   "id": "519b384c-760d-4fc6-92fb-389f76d91af6",
   "metadata": {},
   "source": [
    "<h3>Basic Data Information</h3>\n",
    "<p>Here's some basic statistics of the data</p>"
   ]
  },
  {
   "cell_type": "code",
   "execution_count": null,
   "id": "f9b78d4d-a76b-4e53-bafb-bffff1f87016",
   "metadata": {},
   "outputs": [],
   "source": [
    "#data.describe()"
   ]
  },
  {
   "cell_type": "code",
   "execution_count": null,
   "id": "fe4bdf0b-476d-432f-bb48-d0052e52dc58",
   "metadata": {},
   "outputs": [],
   "source": [
    "#data.info()"
   ]
  },
  {
   "cell_type": "markdown",
   "id": "f8fea59b-d51b-45de-84bf-383dce00dd47",
   "metadata": {},
   "source": [
    "<h3>Working with Metadata File</h3>"
   ]
  },
  {
   "cell_type": "code",
   "execution_count": null,
   "id": "a2190ae5-8227-4abb-aa28-19404bcc2214",
   "metadata": {},
   "outputs": [],
   "source": [
    "import pandas as pd\n",
    "meta_data = pd.read_csv(\"../Data/metadata.csv\")\n",
    "meta_data"
   ]
  },
  {
   "cell_type": "markdown",
   "id": "09f89abb-fc00-45c6-95c0-e63448b5d513",
   "metadata": {},
   "source": [
    "<h3>Filtering Out</h3>"
   ]
  },
  {
   "cell_type": "code",
   "execution_count": null,
   "id": "bccfd9b3-4b39-407b-870b-7801b159286b",
   "metadata": {},
   "outputs": [],
   "source": [
    "week_48_mask = meta_data[\"Week\"] == 48\n",
    "filtered_by_week_48 = meta_data[week_48_mask]\n",
    "filtered_by_week_48 # displaying data"
   ]
  },
  {
   "cell_type": "markdown",
   "id": "6769b27e-4956-4945-9aac-55b3bf8e299f",
   "metadata": {},
   "source": [
    "<h3>Outputting Sample Numbers</h3>"
   ]
  },
  {
   "cell_type": "code",
   "execution_count": null,
   "id": "648dd2a7-111a-4e97-84db-b582288093a4",
   "metadata": {},
   "outputs": [],
   "source": [
    "flare_1_mask = filtered_by_week_48[\"Flare\"] == 1\n",
    "flare_3_mask = filtered_by_week_48[\"Flare\"] == 3\n",
    "flare_1_48 = filtered_by_week_48[flare_1_mask]\n",
    "flare_3_48 = filtered_by_week_48[flare_3_mask]\n",
    "flare_1_sample_numbers_48 = flare_1_48['sample']\n",
    "flare_3_sample_numbers_48 = flare_3_48['sample']\n",
    "print(\"Flare Samples:\\n\", flare_1_sample_numbers_48,'\\n\\n')\n",
    "print(\"No Flare Samples:\\n\", flare_3_sample_numbers_48)"
   ]
  },
  {
   "cell_type": "markdown",
   "id": "ba8e8f09-97f1-4e07-8946-246924b9eeda",
   "metadata": {},
   "source": [
    "<h3>Filterng All</h3>"
   ]
  },
  {
   "cell_type": "code",
   "execution_count": null,
   "id": "d57d5576-2e4e-48c5-b374-fd7fca26debb",
   "metadata": {},
   "outputs": [],
   "source": [
    "week_24_mask = meta_data[\"Week\"] == 24\n",
    "filtered_by_week_24 = meta_data[week_24_mask]\n",
    "filtered_by_week_24"
   ]
  },
  {
   "cell_type": "code",
   "execution_count": null,
   "id": "e4b700f9-87a0-4ab6-b1bc-55c39aaf310d",
   "metadata": {},
   "outputs": [],
   "source": [
    "flare_1_mask = filtered_by_week_24[\"Flare\"] == 1\n",
    "flare_3_mask = filtered_by_week_24[\"Flare\"] == 3\n",
    "flare_1_24 = filtered_by_week_24[flare_1_mask]\n",
    "flare_3_24 = filtered_by_week_24[flare_3_mask]\n",
    "flare_1_sample_numbers_24 = flare_1_24['sample']\n",
    "flare_3_sample_numbers_24 = flare_3_24['sample']\n"
   ]
  },
  {
   "cell_type": "markdown",
   "id": "75da1a0c-361d-4a2f-85ef-ccb16de3faf4",
   "metadata": {},
   "source": [
    "<h3>Back to Original File</h3>\n",
    "This section will transpose and filter the results"
   ]
  },
  {
   "cell_type": "code",
   "execution_count": null,
   "id": "99b904f9-c063-4ccc-b71b-f0786bd4de38",
   "metadata": {},
   "outputs": [],
   "source": [
    "# Transposing and resetting the index of the rows\n",
    "data_T = data.T.reset_index()\n",
    "#dropping the Gene name as it has missing values\n",
    "data_T = data_T.drop(1).reset_index()\n",
    "# Display result\n",
    "data_T\n"
   ]
  },
  {
   "cell_type": "code",
   "execution_count": null,
   "id": "322edb3a-0882-4ca3-b132-359f02baec79",
   "metadata": {},
   "outputs": [],
   "source": [
    "# Dropping the column that was generated from transposing the data\n",
    "data_T = data_T.drop(columns='level_0')\n",
    "#locating Gene IDs to set them as column names\n",
    "column_names = data_T.iloc[0]\n",
    "#setting the column names to the extracted Gene IDs\n",
    "data_T.columns = column_names\n",
    "data_T.rename(columns={'Geneid': 'Sample ID'}, inplace=True)\n",
    "#dropping the row with Gene IDs\n",
    "data_T = data_T.drop(0)\n",
    "#Displaying the dataset\n",
    "data_T"
   ]
  },
  {
   "cell_type": "code",
   "execution_count": null,
   "id": "a10bd083-54d6-4856-b174-fbf43081b34f",
   "metadata": {},
   "outputs": [],
   "source": [
    "#filter sample by flare/no flare\n",
    "# No flare samples \n",
    "wk_48_flare_1 = data_T[data_T['Sample ID'].isin(flare_1_sample_numbers_48)]\n",
    "# Flare samples\n",
    "wk_48_flare_3 = data_T[data_T['Sample ID'].isin(flare_3_sample_numbers_48)]\n"
   ]
  },
  {
   "cell_type": "code",
   "execution_count": null,
   "id": "5d89c353-b450-4ca1-ad39-5b8a4f3046ea",
   "metadata": {},
   "outputs": [],
   "source": [
    "# Dropping columns with constants\n",
    "# Identify numerical columns\n",
    "\n",
    "# Finding columns with constants\n",
    "wk_48_flare_1_const_columns = wk_48_flare_1.iloc[:, 1:].columns[wk_48_flare_1.iloc[:, 1:].std() == 0]\n",
    "wk_48_flare_3_const_columns  = wk_48_flare_1.iloc[:, 1:].columns[wk_48_flare_1.iloc[:, 1:].std() == 0]\n",
    "\n",
    "# I commented the print statements. Uncomment to see the gene ids\n",
    "#print(\"Constant columns in 'wk_48_flare_1':\", wk_48_flare_1_const_columns)\n",
    "#print(\"Constant columns in 'wk_48_flare_3':\", len(wk_48_flare_3_const_columns))\n",
    "\n",
    "# Droping columns and saving the dataframe\n",
    "wk_48_flare_1_no_constants = wk_48_flare_1.drop(columns=wk_48_flare_1_const_columns)\n",
    "wk_48_flare_3_no_constants = wk_48_flare_3.drop(columns=wk_48_flare_3_const_columns)\n"
   ]
  },
  {
   "cell_type": "markdown",
   "id": "4200248b-e755-42c4-9dcf-c39ab711a425",
   "metadata": {},
   "source": [
    "<h3>Important Notes</h3>\n",
    "First code chunk only drops columns with constants based on the standard deviation. This means if there's any value that's different in the column, the column will be kept.<br>\n",
    "Second code chunk drops columns with more than half the values < 5.<br>\n",
    "\n",
    "Both can be easily updated by updating the numbers in the code chunks.<br>\n",
    "A list of dropped Gene ID's can be found in each code block by referring to the variables 'columns_to_drop_flare_x' where x = 1 or 3\n"
   ]
  },
  {
   "cell_type": "code",
   "execution_count": null,
   "id": "2698d283-8530-46b9-9d71-379cfe4e9570",
   "metadata": {},
   "outputs": [],
   "source": [
    "# Dropping the ones with zeros\n",
    "# Chnage the threshold to change the numbner of columns to be dropped\n",
    "threshold = 0.40\n",
    "zero_percentage = (wk_48_flare_1_no_constants == 0).mean()\n",
    "columns_to_drop_flare_1 = zero_percentage[zero_percentage >= threshold].index\n",
    "print(\"Number of columns with\",threshold*100,\"% or more missing data in flare 1 dataset: \", len(columns_to_drop_flare_1))\n",
    "\n",
    "zero_percentage = (wk_48_flare_3_no_constants == 0).mean()\n",
    "columns_to_drop_flare_3 = zero_percentage[zero_percentage >= threshold].index\n",
    "print(\"Number of columns with\",threshold*100,\"% or more missing data in flare 3 dataset: \", len(columns_to_drop_flare_3))\n",
    "\n",
    "# drop columns\n",
    "wk_48_flare_1_no_constants = wk_48_flare_1_no_constants.drop(columns=columns_to_drop_flare_1)\n",
    "wk_48_flare_3_no_constants = wk_48_flare_3_no_constants.drop(columns=columns_to_drop_flare_3)\n",
    "\n"
   ]
  },
  {
   "cell_type": "code",
   "execution_count": null,
   "id": "7b764388-05a3-4466-9395-5527b14e3f33",
   "metadata": {},
   "outputs": [],
   "source": [
    "# Dropping the ones with zeros\n",
    "# Chnage the threshold to change the numbner of columns to be dropped\n",
    "threshold = 0.50\n",
    "zero_percentage = (wk_48_flare_1_no_constants.iloc[:, 1:] < 5).mean()\n",
    "columns_to_drop_flare_1 = zero_percentage[zero_percentage >= threshold].index\n",
    "print(\"Number of columns with\",threshold*100,\"% or more missing data in flare 1 dataset: \", len(columns_to_drop_flare_1))\n",
    "\n",
    "zero_percentage = (wk_48_flare_3_no_constants.iloc[:, 1:] < 5).mean()\n",
    "columns_to_drop_flare_3 = zero_percentage[zero_percentage >= threshold].index\n",
    "print(\"Number of columns with \",threshold*100,\"% or more missing data in flare 3 dataset: \", len(columns_to_drop_flare_3))\n",
    "\n",
    "# drop columns\n",
    "wk_48_flare_1_no_constants = wk_48_flare_1_no_constants.drop(columns=columns_to_drop_flare_1)\n",
    "wk_48_flare_3_no_constants = wk_48_flare_3_no_constants.drop(columns=columns_to_drop_flare_3)\n"
   ]
  },
  {
   "cell_type": "code",
   "execution_count": null,
   "id": "fa7f98a9-d9a2-455d-8522-7a7b4e618608",
   "metadata": {},
   "outputs": [],
   "source": [
    "# Flare 1 samples for week 48\n",
    "wk_48_flare_1_no_constants"
   ]
  },
  {
   "cell_type": "code",
   "execution_count": null,
   "id": "6e163ed3-2a39-43a2-abbe-59c2ef23176f",
   "metadata": {},
   "outputs": [],
   "source": [
    "# Flare 3 samples for week 48\n",
    "wk_48_flare_3_no_constants"
   ]
  },
  {
   "cell_type": "code",
   "execution_count": null,
   "id": "1214820b-a5c3-4ca6-bed5-e4ee033362a8",
   "metadata": {},
   "outputs": [],
   "source": [
    "in_1_not_in_3 = []\n",
    "in_3_not_in_1 = []\n",
    "\n",
    "for name in wk_48_flare_1_no_constants.columns:\n",
    "    if name not in wk_48_flare_3_no_constants:\n",
    "        in_1_not_in_3.append(name)\n",
    "\n",
    "for name in wk_48_flare_3_no_constants.columns:\n",
    "    if name not in wk_48_flare_1_no_constants:\n",
    "        in_3_not_in_1.append(name)\n",
    "print(\"in_1_not_in_3: \",len(in_1_not_in_3), \"Percentage: \", len(in_1_not_in_3)/len(wk_48_flare_3_no_constants.columns)*100,'%')\n",
    "print(\"in_1_not_in_3: \",in_1_not_in_3)\n",
    "print(\"in_3_not_in_1: \", len(in_3_not_in_1), \"Percentage: \", len(in_3_not_in_1)/len(wk_48_flare_1_no_constants.columns)*100,'%')\n",
    "print(\"in_3_not_in_1: \", in_3_not_in_1)"
   ]
  },
  {
   "cell_type": "code",
   "execution_count": null,
   "id": "27ec5547-08f2-436f-ad7f-2865f0f6575b",
   "metadata": {},
   "outputs": [],
   "source": [
    "import numpy as np\n",
    "gene_ids = np.array(data['Geneid'])\n",
    "gene_names = np.array(data['GeneName'])\n",
    "names_in_1_not_in_3 = []\n",
    "names_in_3_not_in_1 = []\n",
    "\n",
    "# get gene names for available in 1 missing 3\n",
    "for geneid in in_1_not_in_3:\n",
    "    # find its index and then the id based on the index\n",
    "    names_in_1_not_in_3.append(gene_names[np.where(gene_ids == geneid)[0][0]])\n",
    "\n",
    "for geneid in in_3_not_in_1:\n",
    "    # find its index and then the id based on the index\n",
    "    names_in_3_not_in_1.append(gene_names[np.where(gene_ids == geneid)[0][0]])\n",
    "\n",
    "print(\"names_in_1_not_in_3: \",names_in_1_not_in_3)\n",
    "print(\"names_in_3_not_in_1: \",names_in_3_not_in_1)\n",
    "\n",
    "\n",
    "max_len = max(len(names_in_1_not_in_3), len(names_in_3_not_in_1))\n",
    "names_in_1_not_in_3.extend([None] * (max_len - len(names_in_1_not_in_3)))\n",
    "names_in_3_not_in_1.extend([None] * (max_len - len(names_in_3_not_in_1)))\n",
    "\n",
    "\n",
    "genes_dict = {\n",
    "    \"names_in_1_not_in_3\": names_in_1_not_in_3,\n",
    "    \"names_in_3_not_in_1\": names_in_3_not_in_1\n",
    "}\n",
    "df = pd.DataFrame(genes_dict)\n",
    "\n",
    "# Export DataFrame to CSV\n",
    "#df.to_csv('../Data/missing_names.csv', index=False)"
   ]
  },
  {
   "cell_type": "markdown",
   "id": "ae1ae52c-894d-49f8-b173-b960051f7427",
   "metadata": {},
   "source": [
    "<h3>Getting the data ready for pyTorch</h3>\n",
    "Combining both flare 1 and flare 3 samples of week 48. Adding the Flare column by combining the dataframes based on the sample ID and then removing the unnecessary columns from the resulting dataframe.\n",
    "\n"
   ]
  },
  {
   "cell_type": "code",
   "execution_count": null,
   "id": "bcce04a0-e1d3-406e-b1ee-f58ca919e76a",
   "metadata": {},
   "outputs": [],
   "source": [
    "# Preparing the dataset for pytorch\n",
    "filtered_by_week_48\n",
    "combined_wk48 = pd.concat([wk_48_flare_1_no_constants,wk_48_flare_3_no_constants])\n",
    "\n",
    "#combining datasets\n",
    "df_combined = pd.merge(filtered_by_week_48, combined_wk48, right_on='Sample ID', left_on='sample')\n",
    "df_combined = df_combined.drop(columns = ['PaxGeneTubeID', 'sample','Week','subject','Sample ID' ])\n",
    "df_combined\n",
    "#df_combined.to_csv('../Data/processed_data.csv', index=False)"
   ]
  },
  {
   "cell_type": "markdown",
   "id": "c2cbbd49-19b3-4a33-8814-15f4cdf4e0ad",
   "metadata": {},
   "source": [
    "<h3>Sorting IDs</h3>\n",
    "here we will sort gene IDs based on significance to see if selecting a subset makes a difference in the learning process\n",
    "\n",
    "<h4>P-value Based sort and extraction</h4>\n",
    "gene ids will be sorted based on the p-value where smaller p-value means higher significance for the gene ID."
   ]
  },
  {
   "cell_type": "code",
   "execution_count": null,
   "id": "f67b3599-5ff3-46a6-8aaa-54608a230347",
   "metadata": {},
   "outputs": [],
   "source": [
    "#### gene_list = pd.read_csv(\"geneList.csv\")\n",
    "print(\"Original list:\")\n",
    "#display(gene_list.head(10))\n",
    "p_sorted_list = gene_list.sort_values(by = \"P_Flare\")\n",
    "p_value_dataset = p_sorted_list.reset_index()[[\"GeneID\",\"GeneName\",\"P_Flare\"]]\n",
    "print(\"Sorted by p-value:\")\n",
    "#display(p_value_dataset.head(10))\n",
    "\n",
    "# Generating data file\n",
    "p_value_dataset.to_csv('../Data/p_value_data.csv', index=False)\n",
    "p_value_dataset.iloc[751]"
   ]
  },
  {
   "cell_type": "markdown",
   "id": "2760dbb3-9199-46f6-98bb-69e5454273b9",
   "metadata": {},
   "source": [
    "<h4>Log2 FC Based sort and extraction</h4>\n",
    "gene ids will be sorted based on the Log2 FC where higher value means higher significance for the gene ID."
   ]
  },
  {
   "cell_type": "code",
   "execution_count": null,
   "id": "2c6b423d-613a-4e1b-94da-188d6bdf398d",
   "metadata": {},
   "outputs": [],
   "source": [
    "Log2FC_sorted_list = gene_list.sort_values(by = \"Log2FC_Y_VS_N\",ascending=False)\n",
    "Log2FC_dataset = Log2FC_sorted_list.reset_index()[[\"GeneID\",\"GeneName\",\"Log2FC_Y_VS_N\"]]\n",
    "\n",
    "print(\"Sorted by log2FC:\")\n",
    "display(Log2FC_dataset.head(10))\n",
    "\n",
    "# Generating data file\n",
    "#Log2FC_dataset.to_csv('../Data/log2fc_data.csv', index=False)"
   ]
  },
  {
   "cell_type": "code",
   "execution_count": null,
   "id": "59aea21a-868c-4077-8a5b-c35bda163f22",
   "metadata": {},
   "outputs": [],
   "source": [
    "#Testing\n",
    "Log2FC_dataset[\"GeneID\"][0:3]\n",
    "selected_IDs = Log2FC_dataset[\"GeneID\"][0:3].tolist()\n",
    "selected_IDs.append(\"Flare\")\n",
    "display(df_combined[selected_IDs])\n",
    "\n",
    "# filtering function\n",
    "\n",
    "def selected_sample(filtering_set, original_data, number_of_ids):\n",
    "    selected_IDs = filtering_set[\"GeneID\"][0:number_of_ids].tolist()\n",
    "    selected_IDs.append(\"Flare\")\n",
    "    return original_data[selected_IDs]  \n",
    "\n",
    "display(selected_sample(filtering_set = Log2FC_dataset, original_data = df_combined, number_of_ids = 3))"
   ]
  },
  {
   "cell_type": "code",
   "execution_count": null,
   "id": "62f6f183",
   "metadata": {},
   "outputs": [],
   "source": [
    "import pandas as pd\n",
    "df = pd.read_csv(\"../Data/processed_data.csv\")\n",
    "df\n"
   ]
  },
  {
   "cell_type": "code",
   "execution_count": null,
   "id": "4610afaf",
   "metadata": {},
   "outputs": [],
   "source": [
    "import pandas as pd\n",
    "from scipy.stats import ttest_ind, mannwhitneyu\n",
    "\n",
    "# make a function\n",
    "\n",
    "def t_test(df, threshold=0.05):\n",
    "    # Define the flare categories\n",
    "    group_1 = df[df['Flare'] == 1].drop('Flare', axis=1)  # All samples where flare = 1\n",
    "    group_3 = df[df['Flare'] == 3].drop('Flare', axis=1)  # All samples where flare = 3\n",
    "\n",
    "    # Dictionary to store p-values for each gene\n",
    "    p_values = {}\n",
    "\n",
    "    # Loop over each gene (column) and perform the statistical test\n",
    "    for gene in group_1.columns:\n",
    "        # Extract the gene expression data for each group\n",
    "        group_1_data = group_1[gene]\n",
    "        group_3_data = group_3[gene]\n",
    "        \n",
    "        # Perform a t-test (you can also use mannwhitneyu for non-parametric test)\n",
    "        t_stat, p_val = ttest_ind(group_1_data, group_3_data, equal_var=False)  # Welch's t-test\n",
    "        \n",
    "        # Store the p-value\n",
    "        p_values[gene] = p_val\n",
    "\n",
    "    # Convert the results into a DataFrame for easier visualization\n",
    "    p_values_df = pd.DataFrame(list(p_values.items()), columns=['Gene', 'P-value'])\n",
    "    p_values_df = p_values_df.sort_values(by='P-value')\n",
    "    # Display the p-values\n",
    "    print(p_values_df)\n",
    "\n",
    "    # Drop the ones below 0.05 and save the gene names in a list\n",
    "    significant_genes = p_values_df[p_values_df['P-value'] < threshold]['Gene'].tolist()\n",
    "    return significant_genes\n",
    "\n",
    "print(t_test(df, threshold=0.05))"
   ]
  },
  {
   "cell_type": "code",
   "execution_count": null,
   "id": "3c7112ee",
   "metadata": {},
   "outputs": [],
   "source": [
    "# Drop the ones below 0.05 and save the gene names in a list\n",
    "significant_genes = p_values_df[p_values_df['P-value'] <= 0.05]['Gene'].tolist()\n",
    "len(significant_genes)\n",
    "\n"
   ]
  },
  {
   "cell_type": "code",
   "execution_count": null,
   "id": "b206936f",
   "metadata": {},
   "outputs": [],
   "source": [
    "import pandas as pd\n",
    "import seaborn as sns\n",
    "import matplotlib.pyplot as plt\n",
    "\n",
    "# Load the data\n",
    "gene_list = pd.read_csv(\"../Data/geneList.csv\")\n",
    "gene_list"
   ]
  },
  {
   "cell_type": "code",
   "execution_count": null,
   "id": "129bc108",
   "metadata": {},
   "outputs": [],
   "source": [
    "significant_genes = gene_list[gene_list['P_Flare'] <= 0.002]['GeneID'].tolist()\n",
    "len(significant_genes)\n",
    "\n"
   ]
  },
  {
   "cell_type": "code",
   "execution_count": null,
   "id": "4ef61491",
   "metadata": {},
   "outputs": [],
   "source": [
    "patient_data = pd.read_csv(\"../Data/processed_data.csv\")\n",
    "patient_data\n",
    "\n",
    "# From all data, drop any gene  that is not in the significant genes list keep flare column\n",
    "significant_data = patient_data[significant_genes + ['Flare']]\n",
    "significant_data\n",
    "\n",
    "# randomly select 4 rows where flare = 3 and 4 rows where flare = 1\n",
    "\n",
    "flare_1_data = significant_data[significant_data['Flare'] == 1].sample(4)\n",
    "flare_3_data = significant_data[significant_data['Flare'] == 3].sample(4)\n",
    "\n",
    "# Combine the two datasets\n",
    "combined_data = pd.concat([flare_1_data, flare_3_data])\n",
    "\n",
    "\n",
    "\n",
    "\n",
    "# Create a heatmap where genes are on the y-axis and flare is on the x-axis\n",
    "heatmap_data = combined_data.set_index('Flare').T  # Transpose to have genes on y-axis\n",
    "sns.heatmap(heatmap_data, cmap='hsv', fmt=\".1f\")\n",
    "plt.xlabel(\"Flare\")\n",
    "plt.ylabel(\"Genes\")\n",
    "plt.title(\"Gene Expression Heatmap by Flare\")\n",
    "plt.show()\n",
    "\n",
    "combined_data"
   ]
  }
 ],
 "metadata": {
  "kernelspec": {
   "display_name": "base",
   "language": "python",
   "name": "python3"
  },
  "language_info": {
   "codemirror_mode": {
    "name": "ipython",
    "version": 3
   },
   "file_extension": ".py",
   "mimetype": "text/x-python",
   "name": "python",
   "nbconvert_exporter": "python",
   "pygments_lexer": "ipython3",
   "version": "3.12.2"
  }
 },
 "nbformat": 4,
 "nbformat_minor": 5
}
